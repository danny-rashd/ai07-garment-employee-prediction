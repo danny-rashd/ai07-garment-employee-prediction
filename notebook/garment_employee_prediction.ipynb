{
  "cells": [
    {
      "cell_type": "code",
      "execution_count": 39,
      "metadata": {
        "id": "TQKETxHqjFmF"
      },
      "outputs": [],
      "source": [
        "# import packages\n",
        "import tensorflow as tf\n",
        "from tensorflow import keras\n",
        "from tensorflow.keras import layers, callbacks\n",
        "from tensorflow.keras.callbacks import EarlyStopping, TensorBoard\n",
        "from tensorflow.keras.utils import plot_model\n",
        "from sklearn.model_selection import train_test_split\n",
        "from sklearn.preprocessing import StandardScaler, LabelEncoder\n",
        "from sklearn.metrics import accuracy_score, mean_absolute_error\n",
        "import numpy as np\n",
        "import pandas as pd\n",
        "import matplotlib.pyplot as plt\n",
        "# %matplotlib inline\n"
      ]
    },
    {
      "cell_type": "code",
      "execution_count": 40,
      "metadata": {
        "id": "onTEZJRijFmK"
      },
      "outputs": [],
      "source": [
        "# Load data\n",
        "df = pd.read_csv('garments_worker_productivity.csv')\n"
      ]
    },
    {
      "cell_type": "code",
      "execution_count": 41,
      "metadata": {
        "colab": {
          "base_uri": "https://localhost:8080/"
        },
        "id": "8mAJwLcojFmK",
        "outputId": "48ae1ad8-5211-4fa6-f22c-80651fa81b9b"
      },
      "outputs": [
        {
          "name": "stdout",
          "output_type": "stream",
          "text": [
            "<class 'pandas.core.frame.DataFrame'>\n",
            "RangeIndex: 1197 entries, 0 to 1196\n",
            "Data columns (total 15 columns):\n",
            " #   Column                 Non-Null Count  Dtype  \n",
            "---  ------                 --------------  -----  \n",
            " 0   date                   1197 non-null   object \n",
            " 1   quarter                1197 non-null   object \n",
            " 2   department             1197 non-null   object \n",
            " 3   day                    1197 non-null   object \n",
            " 4   team                   1197 non-null   int64  \n",
            " 5   targeted_productivity  1197 non-null   float64\n",
            " 6   smv                    1197 non-null   float64\n",
            " 7   wip                    691 non-null    float64\n",
            " 8   over_time              1197 non-null   int64  \n",
            " 9   incentive              1197 non-null   int64  \n",
            " 10  idle_time              1197 non-null   float64\n",
            " 11  idle_men               1197 non-null   int64  \n",
            " 12  no_of_style_change     1197 non-null   int64  \n",
            " 13  no_of_workers          1197 non-null   float64\n",
            " 14  actual_productivity    1197 non-null   float64\n",
            "dtypes: float64(6), int64(5), object(4)\n",
            "memory usage: 140.4+ KB\n"
          ]
        }
      ],
      "source": [
        "df.info()\n"
      ]
    },
    {
      "cell_type": "markdown",
      "metadata": {
        "id": "SaWBkqt0jFmL"
      },
      "source": [
        "As observed, there are 1197 rows and 15 columns\n"
      ]
    },
    {
      "cell_type": "code",
      "execution_count": 42,
      "metadata": {
        "colab": {
          "base_uri": "https://localhost:8080/"
        },
        "id": "47SO2Cg3jFmM",
        "outputId": "e9d49694-ec9a-45b0-b017-cd8c9e25ee7f"
      },
      "outputs": [
        {
          "data": {
            "text/plain": [
              "date                       0\n",
              "quarter                    0\n",
              "department                 0\n",
              "day                        0\n",
              "team                       0\n",
              "targeted_productivity      0\n",
              "smv                        0\n",
              "wip                      506\n",
              "over_time                  0\n",
              "incentive                  0\n",
              "idle_time                  0\n",
              "idle_men                   0\n",
              "no_of_style_change         0\n",
              "no_of_workers              0\n",
              "actual_productivity        0\n",
              "dtype: int64"
            ]
          },
          "execution_count": 42,
          "metadata": {},
          "output_type": "execute_result"
        }
      ],
      "source": [
        "df.isna().sum()\n"
      ]
    },
    {
      "cell_type": "markdown",
      "metadata": {
        "id": "3zLFFuoKjFmN"
      },
      "source": [
        "There are a many null values in the 'wip' column which means we need to either impute the values or drop the null values. However, the latter method is not advised since there are 506 null values to 691 non-null values in the column. Therefore, we need to fill null values with the mean of the column.\n"
      ]
    },
    {
      "cell_type": "code",
      "execution_count": 43,
      "metadata": {
        "id": "lCwIDKj8jFmN"
      },
      "outputs": [],
      "source": [
        "df['wip'].fillna(int(df['wip'].mean()), inplace=True)\n"
      ]
    },
    {
      "cell_type": "code",
      "execution_count": 44,
      "metadata": {
        "colab": {
          "base_uri": "https://localhost:8080/"
        },
        "id": "gjuhQMuajFmO",
        "outputId": "72df028a-3d18-462d-e1be-fd782a2216a0"
      },
      "outputs": [
        {
          "name": "stdout",
          "output_type": "stream",
          "text": [
            "<class 'pandas.core.frame.DataFrame'>\n",
            "RangeIndex: 1197 entries, 0 to 1196\n",
            "Data columns (total 15 columns):\n",
            " #   Column                 Non-Null Count  Dtype  \n",
            "---  ------                 --------------  -----  \n",
            " 0   date                   1197 non-null   object \n",
            " 1   quarter                1197 non-null   object \n",
            " 2   department             1197 non-null   object \n",
            " 3   day                    1197 non-null   object \n",
            " 4   team                   1197 non-null   int64  \n",
            " 5   targeted_productivity  1197 non-null   float64\n",
            " 6   smv                    1197 non-null   float64\n",
            " 7   wip                    1197 non-null   float64\n",
            " 8   over_time              1197 non-null   int64  \n",
            " 9   incentive              1197 non-null   int64  \n",
            " 10  idle_time              1197 non-null   float64\n",
            " 11  idle_men               1197 non-null   int64  \n",
            " 12  no_of_style_change     1197 non-null   int64  \n",
            " 13  no_of_workers          1197 non-null   float64\n",
            " 14  actual_productivity    1197 non-null   float64\n",
            "dtypes: float64(6), int64(5), object(4)\n",
            "memory usage: 140.4+ KB\n"
          ]
        }
      ],
      "source": [
        "df.info()\n"
      ]
    },
    {
      "cell_type": "markdown",
      "metadata": {
        "id": "NWq59lYYjFmO"
      },
      "source": [
        "As observed, there are 4 columns with object datatypes which is 'date','quarter','department' and 'day'.\n"
      ]
    },
    {
      "cell_type": "code",
      "execution_count": 45,
      "metadata": {
        "colab": {
          "base_uri": "https://localhost:8080/",
          "height": 175
        },
        "id": "mfOdfBnojFmP",
        "outputId": "260c760d-59cf-464f-8768-dabe89e6c993"
      },
      "outputs": [
        {
          "data": {
            "text/html": [
              "\n",
              "  <div id=\"df-934f9f0d-f8c6-46b3-8e55-3292d3fe3289\">\n",
              "    <div class=\"colab-df-container\">\n",
              "      <div>\n",
              "<style scoped>\n",
              "    .dataframe tbody tr th:only-of-type {\n",
              "        vertical-align: middle;\n",
              "    }\n",
              "\n",
              "    .dataframe tbody tr th {\n",
              "        vertical-align: top;\n",
              "    }\n",
              "\n",
              "    .dataframe thead th {\n",
              "        text-align: right;\n",
              "    }\n",
              "</style>\n",
              "<table border=\"1\" class=\"dataframe\">\n",
              "  <thead>\n",
              "    <tr style=\"text-align: right;\">\n",
              "      <th></th>\n",
              "      <th>date</th>\n",
              "      <th>quarter</th>\n",
              "      <th>department</th>\n",
              "      <th>day</th>\n",
              "    </tr>\n",
              "  </thead>\n",
              "  <tbody>\n",
              "    <tr>\n",
              "      <th>count</th>\n",
              "      <td>1197</td>\n",
              "      <td>1197</td>\n",
              "      <td>1197</td>\n",
              "      <td>1197</td>\n",
              "    </tr>\n",
              "    <tr>\n",
              "      <th>unique</th>\n",
              "      <td>59</td>\n",
              "      <td>5</td>\n",
              "      <td>3</td>\n",
              "      <td>6</td>\n",
              "    </tr>\n",
              "    <tr>\n",
              "      <th>top</th>\n",
              "      <td>3/11/2015</td>\n",
              "      <td>Quarter1</td>\n",
              "      <td>sweing</td>\n",
              "      <td>Wednesday</td>\n",
              "    </tr>\n",
              "    <tr>\n",
              "      <th>freq</th>\n",
              "      <td>24</td>\n",
              "      <td>360</td>\n",
              "      <td>691</td>\n",
              "      <td>208</td>\n",
              "    </tr>\n",
              "  </tbody>\n",
              "</table>\n",
              "</div>\n",
              "      <button class=\"colab-df-convert\" onclick=\"convertToInteractive('df-934f9f0d-f8c6-46b3-8e55-3292d3fe3289')\"\n",
              "              title=\"Convert this dataframe to an interactive table.\"\n",
              "              style=\"display:none;\">\n",
              "        \n",
              "  <svg xmlns=\"http://www.w3.org/2000/svg\" height=\"24px\"viewBox=\"0 0 24 24\"\n",
              "       width=\"24px\">\n",
              "    <path d=\"M0 0h24v24H0V0z\" fill=\"none\"/>\n",
              "    <path d=\"M18.56 5.44l.94 2.06.94-2.06 2.06-.94-2.06-.94-.94-2.06-.94 2.06-2.06.94zm-11 1L8.5 8.5l.94-2.06 2.06-.94-2.06-.94L8.5 2.5l-.94 2.06-2.06.94zm10 10l.94 2.06.94-2.06 2.06-.94-2.06-.94-.94-2.06-.94 2.06-2.06.94z\"/><path d=\"M17.41 7.96l-1.37-1.37c-.4-.4-.92-.59-1.43-.59-.52 0-1.04.2-1.43.59L10.3 9.45l-7.72 7.72c-.78.78-.78 2.05 0 2.83L4 21.41c.39.39.9.59 1.41.59.51 0 1.02-.2 1.41-.59l7.78-7.78 2.81-2.81c.8-.78.8-2.07 0-2.86zM5.41 20L4 18.59l7.72-7.72 1.47 1.35L5.41 20z\"/>\n",
              "  </svg>\n",
              "      </button>\n",
              "      \n",
              "  <style>\n",
              "    .colab-df-container {\n",
              "      display:flex;\n",
              "      flex-wrap:wrap;\n",
              "      gap: 12px;\n",
              "    }\n",
              "\n",
              "    .colab-df-convert {\n",
              "      background-color: #E8F0FE;\n",
              "      border: none;\n",
              "      border-radius: 50%;\n",
              "      cursor: pointer;\n",
              "      display: none;\n",
              "      fill: #1967D2;\n",
              "      height: 32px;\n",
              "      padding: 0 0 0 0;\n",
              "      width: 32px;\n",
              "    }\n",
              "\n",
              "    .colab-df-convert:hover {\n",
              "      background-color: #E2EBFA;\n",
              "      box-shadow: 0px 1px 2px rgba(60, 64, 67, 0.3), 0px 1px 3px 1px rgba(60, 64, 67, 0.15);\n",
              "      fill: #174EA6;\n",
              "    }\n",
              "\n",
              "    [theme=dark] .colab-df-convert {\n",
              "      background-color: #3B4455;\n",
              "      fill: #D2E3FC;\n",
              "    }\n",
              "\n",
              "    [theme=dark] .colab-df-convert:hover {\n",
              "      background-color: #434B5C;\n",
              "      box-shadow: 0px 1px 3px 1px rgba(0, 0, 0, 0.15);\n",
              "      filter: drop-shadow(0px 1px 2px rgba(0, 0, 0, 0.3));\n",
              "      fill: #FFFFFF;\n",
              "    }\n",
              "  </style>\n",
              "\n",
              "      <script>\n",
              "        const buttonEl =\n",
              "          document.querySelector('#df-934f9f0d-f8c6-46b3-8e55-3292d3fe3289 button.colab-df-convert');\n",
              "        buttonEl.style.display =\n",
              "          google.colab.kernel.accessAllowed ? 'block' : 'none';\n",
              "\n",
              "        async function convertToInteractive(key) {\n",
              "          const element = document.querySelector('#df-934f9f0d-f8c6-46b3-8e55-3292d3fe3289');\n",
              "          const dataTable =\n",
              "            await google.colab.kernel.invokeFunction('convertToInteractive',\n",
              "                                                     [key], {});\n",
              "          if (!dataTable) return;\n",
              "\n",
              "          const docLinkHtml = 'Like what you see? Visit the ' +\n",
              "            '<a target=\"_blank\" href=https://colab.research.google.com/notebooks/data_table.ipynb>data table notebook</a>'\n",
              "            + ' to learn more about interactive tables.';\n",
              "          element.innerHTML = '';\n",
              "          dataTable['output_type'] = 'display_data';\n",
              "          await google.colab.output.renderOutput(dataTable, element);\n",
              "          const docLink = document.createElement('div');\n",
              "          docLink.innerHTML = docLinkHtml;\n",
              "          element.appendChild(docLink);\n",
              "        }\n",
              "      </script>\n",
              "    </div>\n",
              "  </div>\n",
              "  "
            ],
            "text/plain": [
              "             date   quarter department        day\n",
              "count        1197      1197       1197       1197\n",
              "unique         59         5          3          6\n",
              "top     3/11/2015  Quarter1     sweing  Wednesday\n",
              "freq           24       360        691        208"
            ]
          },
          "execution_count": 45,
          "metadata": {},
          "output_type": "execute_result"
        }
      ],
      "source": [
        "df.describe(include=['O'])\n"
      ]
    },
    {
      "cell_type": "code",
      "execution_count": 46,
      "metadata": {
        "id": "KQgrJ4uijFmP"
      },
      "outputs": [],
      "source": [
        "# convert date object to datetime object\n",
        "df['date'] = pd.to_datetime(df['date'])\n"
      ]
    },
    {
      "cell_type": "code",
      "execution_count": 47,
      "metadata": {
        "colab": {
          "base_uri": "https://localhost:8080/",
          "height": 206
        },
        "id": "jWeThF6ojFmQ",
        "outputId": "c2ccbd37-90d9-4584-8c08-ae89ff23b4e6"
      },
      "outputs": [
        {
          "data": {
            "text/html": [
              "\n",
              "  <div id=\"df-fd4fedea-771e-47bd-8ce9-5b7c3d78d5f3\">\n",
              "    <div class=\"colab-df-container\">\n",
              "      <div>\n",
              "<style scoped>\n",
              "    .dataframe tbody tr th:only-of-type {\n",
              "        vertical-align: middle;\n",
              "    }\n",
              "\n",
              "    .dataframe tbody tr th {\n",
              "        vertical-align: top;\n",
              "    }\n",
              "\n",
              "    .dataframe thead th {\n",
              "        text-align: right;\n",
              "    }\n",
              "</style>\n",
              "<table border=\"1\" class=\"dataframe\">\n",
              "  <thead>\n",
              "    <tr style=\"text-align: right;\">\n",
              "      <th></th>\n",
              "      <th>date</th>\n",
              "      <th>quarter</th>\n",
              "      <th>department</th>\n",
              "      <th>day</th>\n",
              "      <th>team</th>\n",
              "      <th>targeted_productivity</th>\n",
              "      <th>smv</th>\n",
              "      <th>wip</th>\n",
              "      <th>over_time</th>\n",
              "      <th>incentive</th>\n",
              "      <th>idle_time</th>\n",
              "      <th>idle_men</th>\n",
              "      <th>no_of_style_change</th>\n",
              "      <th>no_of_workers</th>\n",
              "      <th>actual_productivity</th>\n",
              "    </tr>\n",
              "  </thead>\n",
              "  <tbody>\n",
              "    <tr>\n",
              "      <th>0</th>\n",
              "      <td>2015-01-01</td>\n",
              "      <td>Quarter1</td>\n",
              "      <td>sweing</td>\n",
              "      <td>Thursday</td>\n",
              "      <td>8</td>\n",
              "      <td>0.80</td>\n",
              "      <td>26.16</td>\n",
              "      <td>1108.0</td>\n",
              "      <td>7080</td>\n",
              "      <td>98</td>\n",
              "      <td>0.0</td>\n",
              "      <td>0</td>\n",
              "      <td>0</td>\n",
              "      <td>59.0</td>\n",
              "      <td>0.940725</td>\n",
              "    </tr>\n",
              "    <tr>\n",
              "      <th>1</th>\n",
              "      <td>2015-01-01</td>\n",
              "      <td>Quarter1</td>\n",
              "      <td>finishing</td>\n",
              "      <td>Thursday</td>\n",
              "      <td>1</td>\n",
              "      <td>0.75</td>\n",
              "      <td>3.94</td>\n",
              "      <td>1190.0</td>\n",
              "      <td>960</td>\n",
              "      <td>0</td>\n",
              "      <td>0.0</td>\n",
              "      <td>0</td>\n",
              "      <td>0</td>\n",
              "      <td>8.0</td>\n",
              "      <td>0.886500</td>\n",
              "    </tr>\n",
              "    <tr>\n",
              "      <th>2</th>\n",
              "      <td>2015-01-01</td>\n",
              "      <td>Quarter1</td>\n",
              "      <td>sweing</td>\n",
              "      <td>Thursday</td>\n",
              "      <td>11</td>\n",
              "      <td>0.80</td>\n",
              "      <td>11.41</td>\n",
              "      <td>968.0</td>\n",
              "      <td>3660</td>\n",
              "      <td>50</td>\n",
              "      <td>0.0</td>\n",
              "      <td>0</td>\n",
              "      <td>0</td>\n",
              "      <td>30.5</td>\n",
              "      <td>0.800570</td>\n",
              "    </tr>\n",
              "    <tr>\n",
              "      <th>3</th>\n",
              "      <td>2015-01-01</td>\n",
              "      <td>Quarter1</td>\n",
              "      <td>sweing</td>\n",
              "      <td>Thursday</td>\n",
              "      <td>12</td>\n",
              "      <td>0.80</td>\n",
              "      <td>11.41</td>\n",
              "      <td>968.0</td>\n",
              "      <td>3660</td>\n",
              "      <td>50</td>\n",
              "      <td>0.0</td>\n",
              "      <td>0</td>\n",
              "      <td>0</td>\n",
              "      <td>30.5</td>\n",
              "      <td>0.800570</td>\n",
              "    </tr>\n",
              "    <tr>\n",
              "      <th>4</th>\n",
              "      <td>2015-01-01</td>\n",
              "      <td>Quarter1</td>\n",
              "      <td>sweing</td>\n",
              "      <td>Thursday</td>\n",
              "      <td>6</td>\n",
              "      <td>0.80</td>\n",
              "      <td>25.90</td>\n",
              "      <td>1170.0</td>\n",
              "      <td>1920</td>\n",
              "      <td>50</td>\n",
              "      <td>0.0</td>\n",
              "      <td>0</td>\n",
              "      <td>0</td>\n",
              "      <td>56.0</td>\n",
              "      <td>0.800382</td>\n",
              "    </tr>\n",
              "  </tbody>\n",
              "</table>\n",
              "</div>\n",
              "      <button class=\"colab-df-convert\" onclick=\"convertToInteractive('df-fd4fedea-771e-47bd-8ce9-5b7c3d78d5f3')\"\n",
              "              title=\"Convert this dataframe to an interactive table.\"\n",
              "              style=\"display:none;\">\n",
              "        \n",
              "  <svg xmlns=\"http://www.w3.org/2000/svg\" height=\"24px\"viewBox=\"0 0 24 24\"\n",
              "       width=\"24px\">\n",
              "    <path d=\"M0 0h24v24H0V0z\" fill=\"none\"/>\n",
              "    <path d=\"M18.56 5.44l.94 2.06.94-2.06 2.06-.94-2.06-.94-.94-2.06-.94 2.06-2.06.94zm-11 1L8.5 8.5l.94-2.06 2.06-.94-2.06-.94L8.5 2.5l-.94 2.06-2.06.94zm10 10l.94 2.06.94-2.06 2.06-.94-2.06-.94-.94-2.06-.94 2.06-2.06.94z\"/><path d=\"M17.41 7.96l-1.37-1.37c-.4-.4-.92-.59-1.43-.59-.52 0-1.04.2-1.43.59L10.3 9.45l-7.72 7.72c-.78.78-.78 2.05 0 2.83L4 21.41c.39.39.9.59 1.41.59.51 0 1.02-.2 1.41-.59l7.78-7.78 2.81-2.81c.8-.78.8-2.07 0-2.86zM5.41 20L4 18.59l7.72-7.72 1.47 1.35L5.41 20z\"/>\n",
              "  </svg>\n",
              "      </button>\n",
              "      \n",
              "  <style>\n",
              "    .colab-df-container {\n",
              "      display:flex;\n",
              "      flex-wrap:wrap;\n",
              "      gap: 12px;\n",
              "    }\n",
              "\n",
              "    .colab-df-convert {\n",
              "      background-color: #E8F0FE;\n",
              "      border: none;\n",
              "      border-radius: 50%;\n",
              "      cursor: pointer;\n",
              "      display: none;\n",
              "      fill: #1967D2;\n",
              "      height: 32px;\n",
              "      padding: 0 0 0 0;\n",
              "      width: 32px;\n",
              "    }\n",
              "\n",
              "    .colab-df-convert:hover {\n",
              "      background-color: #E2EBFA;\n",
              "      box-shadow: 0px 1px 2px rgba(60, 64, 67, 0.3), 0px 1px 3px 1px rgba(60, 64, 67, 0.15);\n",
              "      fill: #174EA6;\n",
              "    }\n",
              "\n",
              "    [theme=dark] .colab-df-convert {\n",
              "      background-color: #3B4455;\n",
              "      fill: #D2E3FC;\n",
              "    }\n",
              "\n",
              "    [theme=dark] .colab-df-convert:hover {\n",
              "      background-color: #434B5C;\n",
              "      box-shadow: 0px 1px 3px 1px rgba(0, 0, 0, 0.15);\n",
              "      filter: drop-shadow(0px 1px 2px rgba(0, 0, 0, 0.3));\n",
              "      fill: #FFFFFF;\n",
              "    }\n",
              "  </style>\n",
              "\n",
              "      <script>\n",
              "        const buttonEl =\n",
              "          document.querySelector('#df-fd4fedea-771e-47bd-8ce9-5b7c3d78d5f3 button.colab-df-convert');\n",
              "        buttonEl.style.display =\n",
              "          google.colab.kernel.accessAllowed ? 'block' : 'none';\n",
              "\n",
              "        async function convertToInteractive(key) {\n",
              "          const element = document.querySelector('#df-fd4fedea-771e-47bd-8ce9-5b7c3d78d5f3');\n",
              "          const dataTable =\n",
              "            await google.colab.kernel.invokeFunction('convertToInteractive',\n",
              "                                                     [key], {});\n",
              "          if (!dataTable) return;\n",
              "\n",
              "          const docLinkHtml = 'Like what you see? Visit the ' +\n",
              "            '<a target=\"_blank\" href=https://colab.research.google.com/notebooks/data_table.ipynb>data table notebook</a>'\n",
              "            + ' to learn more about interactive tables.';\n",
              "          element.innerHTML = '';\n",
              "          dataTable['output_type'] = 'display_data';\n",
              "          await google.colab.output.renderOutput(dataTable, element);\n",
              "          const docLink = document.createElement('div');\n",
              "          docLink.innerHTML = docLinkHtml;\n",
              "          element.appendChild(docLink);\n",
              "        }\n",
              "      </script>\n",
              "    </div>\n",
              "  </div>\n",
              "  "
            ],
            "text/plain": [
              "        date   quarter  department       day  team  targeted_productivity  \\\n",
              "0 2015-01-01  Quarter1      sweing  Thursday     8                   0.80   \n",
              "1 2015-01-01  Quarter1  finishing   Thursday     1                   0.75   \n",
              "2 2015-01-01  Quarter1      sweing  Thursday    11                   0.80   \n",
              "3 2015-01-01  Quarter1      sweing  Thursday    12                   0.80   \n",
              "4 2015-01-01  Quarter1      sweing  Thursday     6                   0.80   \n",
              "\n",
              "     smv     wip  over_time  incentive  idle_time  idle_men  \\\n",
              "0  26.16  1108.0       7080         98        0.0         0   \n",
              "1   3.94  1190.0        960          0        0.0         0   \n",
              "2  11.41   968.0       3660         50        0.0         0   \n",
              "3  11.41   968.0       3660         50        0.0         0   \n",
              "4  25.90  1170.0       1920         50        0.0         0   \n",
              "\n",
              "   no_of_style_change  no_of_workers  actual_productivity  \n",
              "0                   0           59.0             0.940725  \n",
              "1                   0            8.0             0.886500  \n",
              "2                   0           30.5             0.800570  \n",
              "3                   0           30.5             0.800570  \n",
              "4                   0           56.0             0.800382  "
            ]
          },
          "execution_count": 47,
          "metadata": {},
          "output_type": "execute_result"
        }
      ],
      "source": [
        "df.head()\n"
      ]
    },
    {
      "cell_type": "code",
      "execution_count": 48,
      "metadata": {
        "colab": {
          "base_uri": "https://localhost:8080/"
        },
        "id": "VMKIa_DtjFmQ",
        "outputId": "631cacc7-f8b2-4be0-912c-5374a1f90403"
      },
      "outputs": [
        {
          "data": {
            "text/plain": [
              "array(['Quarter1', 'Quarter2', 'Quarter3', 'Quarter4', 'Quarter5'],\n",
              "      dtype=object)"
            ]
          },
          "execution_count": 48,
          "metadata": {},
          "output_type": "execute_result"
        }
      ],
      "source": [
        "df['quarter'].unique()\n"
      ]
    },
    {
      "cell_type": "code",
      "execution_count": 49,
      "metadata": {
        "colab": {
          "base_uri": "https://localhost:8080/"
        },
        "id": "GNc9nKmVjFmQ",
        "outputId": "81f5cfca-0d55-4b0a-8f5a-38aedee45387"
      },
      "outputs": [
        {
          "data": {
            "text/plain": [
              "array(['Thursday', 'Saturday', 'Sunday', 'Monday', 'Tuesday', 'Wednesday'],\n",
              "      dtype=object)"
            ]
          },
          "execution_count": 49,
          "metadata": {},
          "output_type": "execute_result"
        }
      ],
      "source": [
        "df['day'].unique()\n"
      ]
    },
    {
      "cell_type": "code",
      "execution_count": 50,
      "metadata": {
        "colab": {
          "base_uri": "https://localhost:8080/"
        },
        "id": "AZOo5ARHjFmR",
        "outputId": "6121fd91-3e43-4ac3-821e-ef80910c2236"
      },
      "outputs": [
        {
          "data": {
            "text/plain": [
              "array(['sweing', 'finishing ', 'finishing'], dtype=object)"
            ]
          },
          "execution_count": 50,
          "metadata": {},
          "output_type": "execute_result"
        }
      ],
      "source": [
        "df['department'].unique()\n"
      ]
    },
    {
      "cell_type": "markdown",
      "metadata": {
        "id": "SQ-Z3sn2jFmR"
      },
      "source": [
        "There are 3 unique values in the 'department' columns instead of two which is 'sewing' and 'finishing'.\n"
      ]
    },
    {
      "cell_type": "code",
      "execution_count": 51,
      "metadata": {
        "id": "nXLyq-cPjFmR"
      },
      "outputs": [],
      "source": [
        "df['department'] = df['department'].apply(\n",
        "    lambda x: 'finishing' if x == ('finishing' or 'finishing ')else 'sewing')\n"
      ]
    },
    {
      "cell_type": "code",
      "execution_count": 52,
      "metadata": {
        "colab": {
          "base_uri": "https://localhost:8080/"
        },
        "id": "WyfV6SmhjFmR",
        "outputId": "cd2765e0-29ba-4c05-dc27-0eb0940a7ae5"
      },
      "outputs": [
        {
          "data": {
            "text/plain": [
              "array(['sewing', 'finishing'], dtype=object)"
            ]
          },
          "execution_count": 52,
          "metadata": {},
          "output_type": "execute_result"
        }
      ],
      "source": [
        "df['department'].unique()\n"
      ]
    },
    {
      "cell_type": "markdown",
      "metadata": {
        "id": "NDgtBS2ojFmS"
      },
      "source": [
        "### Regression\n",
        "\n",
        "Since we want to make prediction of the worker's productivity, the 'actual_productivity' column will be the label.\n",
        "\n",
        "### Classification\n",
        "\n",
        "If we want to make classification of the worker's productivity, we will create 'actual_productivity_class' column as the label for the classification model.\n",
        "\n",
        "| actual_productivity_class values | Descriptions   |\n",
        "| -------------------------------- | -------------- |\n",
        "| 0                                | Not Productive |\n",
        "| 1                                | Productive     |\n"
      ]
    },
    {
      "cell_type": "code",
      "execution_count": 53,
      "metadata": {
        "id": "nB-v_SRkjFmS"
      },
      "outputs": [],
      "source": [
        "# Create the label for classification class where 'actual_productivity' > 0.5 to 1 and 'actual_productivity' <= 0.5 to 0\n",
        "df['actual_productivity_class'] = np.where(\n",
        "    df['actual_productivity'] > 0.5, 1, 0)\n"
      ]
    },
    {
      "cell_type": "code",
      "execution_count": 54,
      "metadata": {
        "colab": {
          "base_uri": "https://localhost:8080/"
        },
        "id": "9RiOnzFnjFmS",
        "outputId": "1f8694e9-b05b-46be-e149-edbad4641e08"
      },
      "outputs": [
        {
          "data": {
            "text/plain": [
              "1    1064\n",
              "0     133\n",
              "Name: actual_productivity_class, dtype: int64"
            ]
          },
          "execution_count": 54,
          "metadata": {},
          "output_type": "execute_result"
        }
      ],
      "source": [
        "df['actual_productivity_class'].value_counts()\n"
      ]
    },
    {
      "cell_type": "markdown",
      "metadata": {},
      "source": [
        "After that we have cleaned and prepared the data, we have to split the data into features and labels.\n"
      ]
    },
    {
      "cell_type": "code",
      "execution_count": 55,
      "metadata": {
        "id": "V_RZ0G8tjFmT"
      },
      "outputs": [],
      "source": [
        "labels_reg = df['actual_productivity']\n",
        "labels_class = df['actual_productivity_class']\n",
        "features = df.drop(['date', 'actual_productivity',\n",
        "                   'actual_productivity_class'], axis=1)\n"
      ]
    },
    {
      "cell_type": "code",
      "execution_count": 56,
      "metadata": {
        "colab": {
          "base_uri": "https://localhost:8080/",
          "height": 206
        },
        "id": "aVaoRGyRjFmT",
        "outputId": "cc45bf92-cf77-4783-a3a4-923489e74b1a"
      },
      "outputs": [
        {
          "data": {
            "text/html": [
              "\n",
              "  <div id=\"df-24c82cc9-bfa1-4709-ae73-a70ce7d2963e\">\n",
              "    <div class=\"colab-df-container\">\n",
              "      <div>\n",
              "<style scoped>\n",
              "    .dataframe tbody tr th:only-of-type {\n",
              "        vertical-align: middle;\n",
              "    }\n",
              "\n",
              "    .dataframe tbody tr th {\n",
              "        vertical-align: top;\n",
              "    }\n",
              "\n",
              "    .dataframe thead th {\n",
              "        text-align: right;\n",
              "    }\n",
              "</style>\n",
              "<table border=\"1\" class=\"dataframe\">\n",
              "  <thead>\n",
              "    <tr style=\"text-align: right;\">\n",
              "      <th></th>\n",
              "      <th>quarter</th>\n",
              "      <th>department</th>\n",
              "      <th>day</th>\n",
              "      <th>team</th>\n",
              "      <th>targeted_productivity</th>\n",
              "      <th>smv</th>\n",
              "      <th>wip</th>\n",
              "      <th>over_time</th>\n",
              "      <th>incentive</th>\n",
              "      <th>idle_time</th>\n",
              "      <th>idle_men</th>\n",
              "      <th>no_of_style_change</th>\n",
              "      <th>no_of_workers</th>\n",
              "    </tr>\n",
              "  </thead>\n",
              "  <tbody>\n",
              "    <tr>\n",
              "      <th>0</th>\n",
              "      <td>Quarter1</td>\n",
              "      <td>sewing</td>\n",
              "      <td>Thursday</td>\n",
              "      <td>8</td>\n",
              "      <td>0.80</td>\n",
              "      <td>26.16</td>\n",
              "      <td>1108.0</td>\n",
              "      <td>7080</td>\n",
              "      <td>98</td>\n",
              "      <td>0.0</td>\n",
              "      <td>0</td>\n",
              "      <td>0</td>\n",
              "      <td>59.0</td>\n",
              "    </tr>\n",
              "    <tr>\n",
              "      <th>1</th>\n",
              "      <td>Quarter1</td>\n",
              "      <td>sewing</td>\n",
              "      <td>Thursday</td>\n",
              "      <td>1</td>\n",
              "      <td>0.75</td>\n",
              "      <td>3.94</td>\n",
              "      <td>1190.0</td>\n",
              "      <td>960</td>\n",
              "      <td>0</td>\n",
              "      <td>0.0</td>\n",
              "      <td>0</td>\n",
              "      <td>0</td>\n",
              "      <td>8.0</td>\n",
              "    </tr>\n",
              "    <tr>\n",
              "      <th>2</th>\n",
              "      <td>Quarter1</td>\n",
              "      <td>sewing</td>\n",
              "      <td>Thursday</td>\n",
              "      <td>11</td>\n",
              "      <td>0.80</td>\n",
              "      <td>11.41</td>\n",
              "      <td>968.0</td>\n",
              "      <td>3660</td>\n",
              "      <td>50</td>\n",
              "      <td>0.0</td>\n",
              "      <td>0</td>\n",
              "      <td>0</td>\n",
              "      <td>30.5</td>\n",
              "    </tr>\n",
              "    <tr>\n",
              "      <th>3</th>\n",
              "      <td>Quarter1</td>\n",
              "      <td>sewing</td>\n",
              "      <td>Thursday</td>\n",
              "      <td>12</td>\n",
              "      <td>0.80</td>\n",
              "      <td>11.41</td>\n",
              "      <td>968.0</td>\n",
              "      <td>3660</td>\n",
              "      <td>50</td>\n",
              "      <td>0.0</td>\n",
              "      <td>0</td>\n",
              "      <td>0</td>\n",
              "      <td>30.5</td>\n",
              "    </tr>\n",
              "    <tr>\n",
              "      <th>4</th>\n",
              "      <td>Quarter1</td>\n",
              "      <td>sewing</td>\n",
              "      <td>Thursday</td>\n",
              "      <td>6</td>\n",
              "      <td>0.80</td>\n",
              "      <td>25.90</td>\n",
              "      <td>1170.0</td>\n",
              "      <td>1920</td>\n",
              "      <td>50</td>\n",
              "      <td>0.0</td>\n",
              "      <td>0</td>\n",
              "      <td>0</td>\n",
              "      <td>56.0</td>\n",
              "    </tr>\n",
              "  </tbody>\n",
              "</table>\n",
              "</div>\n",
              "      <button class=\"colab-df-convert\" onclick=\"convertToInteractive('df-24c82cc9-bfa1-4709-ae73-a70ce7d2963e')\"\n",
              "              title=\"Convert this dataframe to an interactive table.\"\n",
              "              style=\"display:none;\">\n",
              "        \n",
              "  <svg xmlns=\"http://www.w3.org/2000/svg\" height=\"24px\"viewBox=\"0 0 24 24\"\n",
              "       width=\"24px\">\n",
              "    <path d=\"M0 0h24v24H0V0z\" fill=\"none\"/>\n",
              "    <path d=\"M18.56 5.44l.94 2.06.94-2.06 2.06-.94-2.06-.94-.94-2.06-.94 2.06-2.06.94zm-11 1L8.5 8.5l.94-2.06 2.06-.94-2.06-.94L8.5 2.5l-.94 2.06-2.06.94zm10 10l.94 2.06.94-2.06 2.06-.94-2.06-.94-.94-2.06-.94 2.06-2.06.94z\"/><path d=\"M17.41 7.96l-1.37-1.37c-.4-.4-.92-.59-1.43-.59-.52 0-1.04.2-1.43.59L10.3 9.45l-7.72 7.72c-.78.78-.78 2.05 0 2.83L4 21.41c.39.39.9.59 1.41.59.51 0 1.02-.2 1.41-.59l7.78-7.78 2.81-2.81c.8-.78.8-2.07 0-2.86zM5.41 20L4 18.59l7.72-7.72 1.47 1.35L5.41 20z\"/>\n",
              "  </svg>\n",
              "      </button>\n",
              "      \n",
              "  <style>\n",
              "    .colab-df-container {\n",
              "      display:flex;\n",
              "      flex-wrap:wrap;\n",
              "      gap: 12px;\n",
              "    }\n",
              "\n",
              "    .colab-df-convert {\n",
              "      background-color: #E8F0FE;\n",
              "      border: none;\n",
              "      border-radius: 50%;\n",
              "      cursor: pointer;\n",
              "      display: none;\n",
              "      fill: #1967D2;\n",
              "      height: 32px;\n",
              "      padding: 0 0 0 0;\n",
              "      width: 32px;\n",
              "    }\n",
              "\n",
              "    .colab-df-convert:hover {\n",
              "      background-color: #E2EBFA;\n",
              "      box-shadow: 0px 1px 2px rgba(60, 64, 67, 0.3), 0px 1px 3px 1px rgba(60, 64, 67, 0.15);\n",
              "      fill: #174EA6;\n",
              "    }\n",
              "\n",
              "    [theme=dark] .colab-df-convert {\n",
              "      background-color: #3B4455;\n",
              "      fill: #D2E3FC;\n",
              "    }\n",
              "\n",
              "    [theme=dark] .colab-df-convert:hover {\n",
              "      background-color: #434B5C;\n",
              "      box-shadow: 0px 1px 3px 1px rgba(0, 0, 0, 0.15);\n",
              "      filter: drop-shadow(0px 1px 2px rgba(0, 0, 0, 0.3));\n",
              "      fill: #FFFFFF;\n",
              "    }\n",
              "  </style>\n",
              "\n",
              "      <script>\n",
              "        const buttonEl =\n",
              "          document.querySelector('#df-24c82cc9-bfa1-4709-ae73-a70ce7d2963e button.colab-df-convert');\n",
              "        buttonEl.style.display =\n",
              "          google.colab.kernel.accessAllowed ? 'block' : 'none';\n",
              "\n",
              "        async function convertToInteractive(key) {\n",
              "          const element = document.querySelector('#df-24c82cc9-bfa1-4709-ae73-a70ce7d2963e');\n",
              "          const dataTable =\n",
              "            await google.colab.kernel.invokeFunction('convertToInteractive',\n",
              "                                                     [key], {});\n",
              "          if (!dataTable) return;\n",
              "\n",
              "          const docLinkHtml = 'Like what you see? Visit the ' +\n",
              "            '<a target=\"_blank\" href=https://colab.research.google.com/notebooks/data_table.ipynb>data table notebook</a>'\n",
              "            + ' to learn more about interactive tables.';\n",
              "          element.innerHTML = '';\n",
              "          dataTable['output_type'] = 'display_data';\n",
              "          await google.colab.output.renderOutput(dataTable, element);\n",
              "          const docLink = document.createElement('div');\n",
              "          docLink.innerHTML = docLinkHtml;\n",
              "          element.appendChild(docLink);\n",
              "        }\n",
              "      </script>\n",
              "    </div>\n",
              "  </div>\n",
              "  "
            ],
            "text/plain": [
              "    quarter department       day  team  targeted_productivity    smv     wip  \\\n",
              "0  Quarter1     sewing  Thursday     8                   0.80  26.16  1108.0   \n",
              "1  Quarter1     sewing  Thursday     1                   0.75   3.94  1190.0   \n",
              "2  Quarter1     sewing  Thursday    11                   0.80  11.41   968.0   \n",
              "3  Quarter1     sewing  Thursday    12                   0.80  11.41   968.0   \n",
              "4  Quarter1     sewing  Thursday     6                   0.80  25.90  1170.0   \n",
              "\n",
              "   over_time  incentive  idle_time  idle_men  no_of_style_change  \\\n",
              "0       7080         98        0.0         0                   0   \n",
              "1        960          0        0.0         0                   0   \n",
              "2       3660         50        0.0         0                   0   \n",
              "3       3660         50        0.0         0                   0   \n",
              "4       1920         50        0.0         0                   0   \n",
              "\n",
              "   no_of_workers  \n",
              "0           59.0  \n",
              "1            8.0  \n",
              "2           30.5  \n",
              "3           30.5  \n",
              "4           56.0  "
            ]
          },
          "execution_count": 56,
          "metadata": {},
          "output_type": "execute_result"
        }
      ],
      "source": [
        "features.head()\n"
      ]
    },
    {
      "cell_type": "code",
      "execution_count": 57,
      "metadata": {
        "id": "gW87pEEXjFmT"
      },
      "outputs": [],
      "source": [
        "# convert categorical variables to dummy variables\n",
        "features = pd.get_dummies(features)\n"
      ]
    },
    {
      "cell_type": "code",
      "execution_count": 58,
      "metadata": {
        "colab": {
          "base_uri": "https://localhost:8080/"
        },
        "id": "aIEkxHJ6jFmT",
        "outputId": "d7beee74-6f42-4162-afe4-e158c400eadd"
      },
      "outputs": [
        {
          "data": {
            "text/plain": [
              "0    0.940725\n",
              "1    0.886500\n",
              "2    0.800570\n",
              "3    0.800570\n",
              "4    0.800382\n",
              "Name: actual_productivity, dtype: float64"
            ]
          },
          "execution_count": 58,
          "metadata": {},
          "output_type": "execute_result"
        }
      ],
      "source": [
        "# Regression labels\n",
        "labels_reg.head()\n"
      ]
    },
    {
      "cell_type": "code",
      "execution_count": 59,
      "metadata": {
        "colab": {
          "base_uri": "https://localhost:8080/"
        },
        "id": "UPJBuL66jFmT",
        "outputId": "e54bc5e6-f988-4b69-aa82-cb7103279ef5"
      },
      "outputs": [
        {
          "data": {
            "text/plain": [
              "0    1\n",
              "1    1\n",
              "2    1\n",
              "3    1\n",
              "4    1\n",
              "Name: actual_productivity_class, dtype: int64"
            ]
          },
          "execution_count": 59,
          "metadata": {},
          "output_type": "execute_result"
        }
      ],
      "source": [
        "# Classification labels\n",
        "labels_class.head()\n"
      ]
    },
    {
      "cell_type": "code",
      "execution_count": 60,
      "metadata": {
        "colab": {
          "base_uri": "https://localhost:8080/",
          "height": 300
        },
        "id": "gwtOKWLljFmV",
        "outputId": "752879c4-5851-41c9-9fb0-ab5cd5bd1e47"
      },
      "outputs": [
        {
          "data": {
            "text/html": [
              "\n",
              "  <div id=\"df-2141aad9-01a8-48d9-830e-80ebb951d85d\">\n",
              "    <div class=\"colab-df-container\">\n",
              "      <div>\n",
              "<style scoped>\n",
              "    .dataframe tbody tr th:only-of-type {\n",
              "        vertical-align: middle;\n",
              "    }\n",
              "\n",
              "    .dataframe tbody tr th {\n",
              "        vertical-align: top;\n",
              "    }\n",
              "\n",
              "    .dataframe thead th {\n",
              "        text-align: right;\n",
              "    }\n",
              "</style>\n",
              "<table border=\"1\" class=\"dataframe\">\n",
              "  <thead>\n",
              "    <tr style=\"text-align: right;\">\n",
              "      <th></th>\n",
              "      <th>team</th>\n",
              "      <th>targeted_productivity</th>\n",
              "      <th>smv</th>\n",
              "      <th>wip</th>\n",
              "      <th>over_time</th>\n",
              "      <th>incentive</th>\n",
              "      <th>idle_time</th>\n",
              "      <th>idle_men</th>\n",
              "      <th>no_of_style_change</th>\n",
              "      <th>no_of_workers</th>\n",
              "      <th>...</th>\n",
              "      <th>quarter_Quarter4</th>\n",
              "      <th>quarter_Quarter5</th>\n",
              "      <th>department_finishing</th>\n",
              "      <th>department_sewing</th>\n",
              "      <th>day_Monday</th>\n",
              "      <th>day_Saturday</th>\n",
              "      <th>day_Sunday</th>\n",
              "      <th>day_Thursday</th>\n",
              "      <th>day_Tuesday</th>\n",
              "      <th>day_Wednesday</th>\n",
              "    </tr>\n",
              "  </thead>\n",
              "  <tbody>\n",
              "    <tr>\n",
              "      <th>0</th>\n",
              "      <td>8</td>\n",
              "      <td>0.80</td>\n",
              "      <td>26.16</td>\n",
              "      <td>1108.0</td>\n",
              "      <td>7080</td>\n",
              "      <td>98</td>\n",
              "      <td>0.0</td>\n",
              "      <td>0</td>\n",
              "      <td>0</td>\n",
              "      <td>59.0</td>\n",
              "      <td>...</td>\n",
              "      <td>0</td>\n",
              "      <td>0</td>\n",
              "      <td>0</td>\n",
              "      <td>1</td>\n",
              "      <td>0</td>\n",
              "      <td>0</td>\n",
              "      <td>0</td>\n",
              "      <td>1</td>\n",
              "      <td>0</td>\n",
              "      <td>0</td>\n",
              "    </tr>\n",
              "    <tr>\n",
              "      <th>1</th>\n",
              "      <td>1</td>\n",
              "      <td>0.75</td>\n",
              "      <td>3.94</td>\n",
              "      <td>1190.0</td>\n",
              "      <td>960</td>\n",
              "      <td>0</td>\n",
              "      <td>0.0</td>\n",
              "      <td>0</td>\n",
              "      <td>0</td>\n",
              "      <td>8.0</td>\n",
              "      <td>...</td>\n",
              "      <td>0</td>\n",
              "      <td>0</td>\n",
              "      <td>0</td>\n",
              "      <td>1</td>\n",
              "      <td>0</td>\n",
              "      <td>0</td>\n",
              "      <td>0</td>\n",
              "      <td>1</td>\n",
              "      <td>0</td>\n",
              "      <td>0</td>\n",
              "    </tr>\n",
              "    <tr>\n",
              "      <th>2</th>\n",
              "      <td>11</td>\n",
              "      <td>0.80</td>\n",
              "      <td>11.41</td>\n",
              "      <td>968.0</td>\n",
              "      <td>3660</td>\n",
              "      <td>50</td>\n",
              "      <td>0.0</td>\n",
              "      <td>0</td>\n",
              "      <td>0</td>\n",
              "      <td>30.5</td>\n",
              "      <td>...</td>\n",
              "      <td>0</td>\n",
              "      <td>0</td>\n",
              "      <td>0</td>\n",
              "      <td>1</td>\n",
              "      <td>0</td>\n",
              "      <td>0</td>\n",
              "      <td>0</td>\n",
              "      <td>1</td>\n",
              "      <td>0</td>\n",
              "      <td>0</td>\n",
              "    </tr>\n",
              "    <tr>\n",
              "      <th>3</th>\n",
              "      <td>12</td>\n",
              "      <td>0.80</td>\n",
              "      <td>11.41</td>\n",
              "      <td>968.0</td>\n",
              "      <td>3660</td>\n",
              "      <td>50</td>\n",
              "      <td>0.0</td>\n",
              "      <td>0</td>\n",
              "      <td>0</td>\n",
              "      <td>30.5</td>\n",
              "      <td>...</td>\n",
              "      <td>0</td>\n",
              "      <td>0</td>\n",
              "      <td>0</td>\n",
              "      <td>1</td>\n",
              "      <td>0</td>\n",
              "      <td>0</td>\n",
              "      <td>0</td>\n",
              "      <td>1</td>\n",
              "      <td>0</td>\n",
              "      <td>0</td>\n",
              "    </tr>\n",
              "    <tr>\n",
              "      <th>4</th>\n",
              "      <td>6</td>\n",
              "      <td>0.80</td>\n",
              "      <td>25.90</td>\n",
              "      <td>1170.0</td>\n",
              "      <td>1920</td>\n",
              "      <td>50</td>\n",
              "      <td>0.0</td>\n",
              "      <td>0</td>\n",
              "      <td>0</td>\n",
              "      <td>56.0</td>\n",
              "      <td>...</td>\n",
              "      <td>0</td>\n",
              "      <td>0</td>\n",
              "      <td>0</td>\n",
              "      <td>1</td>\n",
              "      <td>0</td>\n",
              "      <td>0</td>\n",
              "      <td>0</td>\n",
              "      <td>1</td>\n",
              "      <td>0</td>\n",
              "      <td>0</td>\n",
              "    </tr>\n",
              "  </tbody>\n",
              "</table>\n",
              "<p>5 rows × 23 columns</p>\n",
              "</div>\n",
              "      <button class=\"colab-df-convert\" onclick=\"convertToInteractive('df-2141aad9-01a8-48d9-830e-80ebb951d85d')\"\n",
              "              title=\"Convert this dataframe to an interactive table.\"\n",
              "              style=\"display:none;\">\n",
              "        \n",
              "  <svg xmlns=\"http://www.w3.org/2000/svg\" height=\"24px\"viewBox=\"0 0 24 24\"\n",
              "       width=\"24px\">\n",
              "    <path d=\"M0 0h24v24H0V0z\" fill=\"none\"/>\n",
              "    <path d=\"M18.56 5.44l.94 2.06.94-2.06 2.06-.94-2.06-.94-.94-2.06-.94 2.06-2.06.94zm-11 1L8.5 8.5l.94-2.06 2.06-.94-2.06-.94L8.5 2.5l-.94 2.06-2.06.94zm10 10l.94 2.06.94-2.06 2.06-.94-2.06-.94-.94-2.06-.94 2.06-2.06.94z\"/><path d=\"M17.41 7.96l-1.37-1.37c-.4-.4-.92-.59-1.43-.59-.52 0-1.04.2-1.43.59L10.3 9.45l-7.72 7.72c-.78.78-.78 2.05 0 2.83L4 21.41c.39.39.9.59 1.41.59.51 0 1.02-.2 1.41-.59l7.78-7.78 2.81-2.81c.8-.78.8-2.07 0-2.86zM5.41 20L4 18.59l7.72-7.72 1.47 1.35L5.41 20z\"/>\n",
              "  </svg>\n",
              "      </button>\n",
              "      \n",
              "  <style>\n",
              "    .colab-df-container {\n",
              "      display:flex;\n",
              "      flex-wrap:wrap;\n",
              "      gap: 12px;\n",
              "    }\n",
              "\n",
              "    .colab-df-convert {\n",
              "      background-color: #E8F0FE;\n",
              "      border: none;\n",
              "      border-radius: 50%;\n",
              "      cursor: pointer;\n",
              "      display: none;\n",
              "      fill: #1967D2;\n",
              "      height: 32px;\n",
              "      padding: 0 0 0 0;\n",
              "      width: 32px;\n",
              "    }\n",
              "\n",
              "    .colab-df-convert:hover {\n",
              "      background-color: #E2EBFA;\n",
              "      box-shadow: 0px 1px 2px rgba(60, 64, 67, 0.3), 0px 1px 3px 1px rgba(60, 64, 67, 0.15);\n",
              "      fill: #174EA6;\n",
              "    }\n",
              "\n",
              "    [theme=dark] .colab-df-convert {\n",
              "      background-color: #3B4455;\n",
              "      fill: #D2E3FC;\n",
              "    }\n",
              "\n",
              "    [theme=dark] .colab-df-convert:hover {\n",
              "      background-color: #434B5C;\n",
              "      box-shadow: 0px 1px 3px 1px rgba(0, 0, 0, 0.15);\n",
              "      filter: drop-shadow(0px 1px 2px rgba(0, 0, 0, 0.3));\n",
              "      fill: #FFFFFF;\n",
              "    }\n",
              "  </style>\n",
              "\n",
              "      <script>\n",
              "        const buttonEl =\n",
              "          document.querySelector('#df-2141aad9-01a8-48d9-830e-80ebb951d85d button.colab-df-convert');\n",
              "        buttonEl.style.display =\n",
              "          google.colab.kernel.accessAllowed ? 'block' : 'none';\n",
              "\n",
              "        async function convertToInteractive(key) {\n",
              "          const element = document.querySelector('#df-2141aad9-01a8-48d9-830e-80ebb951d85d');\n",
              "          const dataTable =\n",
              "            await google.colab.kernel.invokeFunction('convertToInteractive',\n",
              "                                                     [key], {});\n",
              "          if (!dataTable) return;\n",
              "\n",
              "          const docLinkHtml = 'Like what you see? Visit the ' +\n",
              "            '<a target=\"_blank\" href=https://colab.research.google.com/notebooks/data_table.ipynb>data table notebook</a>'\n",
              "            + ' to learn more about interactive tables.';\n",
              "          element.innerHTML = '';\n",
              "          dataTable['output_type'] = 'display_data';\n",
              "          await google.colab.output.renderOutput(dataTable, element);\n",
              "          const docLink = document.createElement('div');\n",
              "          docLink.innerHTML = docLinkHtml;\n",
              "          element.appendChild(docLink);\n",
              "        }\n",
              "      </script>\n",
              "    </div>\n",
              "  </div>\n",
              "  "
            ],
            "text/plain": [
              "   team  targeted_productivity    smv     wip  over_time  incentive  \\\n",
              "0     8                   0.80  26.16  1108.0       7080         98   \n",
              "1     1                   0.75   3.94  1190.0        960          0   \n",
              "2    11                   0.80  11.41   968.0       3660         50   \n",
              "3    12                   0.80  11.41   968.0       3660         50   \n",
              "4     6                   0.80  25.90  1170.0       1920         50   \n",
              "\n",
              "   idle_time  idle_men  no_of_style_change  no_of_workers  ...  \\\n",
              "0        0.0         0                   0           59.0  ...   \n",
              "1        0.0         0                   0            8.0  ...   \n",
              "2        0.0         0                   0           30.5  ...   \n",
              "3        0.0         0                   0           30.5  ...   \n",
              "4        0.0         0                   0           56.0  ...   \n",
              "\n",
              "   quarter_Quarter4  quarter_Quarter5  department_finishing  \\\n",
              "0                 0                 0                     0   \n",
              "1                 0                 0                     0   \n",
              "2                 0                 0                     0   \n",
              "3                 0                 0                     0   \n",
              "4                 0                 0                     0   \n",
              "\n",
              "   department_sewing  day_Monday  day_Saturday  day_Sunday  day_Thursday  \\\n",
              "0                  1           0             0           0             1   \n",
              "1                  1           0             0           0             1   \n",
              "2                  1           0             0           0             1   \n",
              "3                  1           0             0           0             1   \n",
              "4                  1           0             0           0             1   \n",
              "\n",
              "   day_Tuesday  day_Wednesday  \n",
              "0            0              0  \n",
              "1            0              0  \n",
              "2            0              0  \n",
              "3            0              0  \n",
              "4            0              0  \n",
              "\n",
              "[5 rows x 23 columns]"
            ]
          },
          "execution_count": 60,
          "metadata": {},
          "output_type": "execute_result"
        }
      ],
      "source": [
        "features.head()\n"
      ]
    },
    {
      "cell_type": "markdown",
      "metadata": {
        "id": "ZzNDmFNIjFmW"
      },
      "source": [
        "Create encode\n"
      ]
    },
    {
      "cell_type": "markdown",
      "metadata": {
        "id": "5QxeG7whjFmW"
      },
      "source": [
        "Train test split\n"
      ]
    },
    {
      "cell_type": "code",
      "execution_count": 61,
      "metadata": {
        "id": "Fall4RE1jFmW"
      },
      "outputs": [],
      "source": [
        "X_train, X_test, y_train, y_test, y_train_class, y_test_class = train_test_split(\n",
        "    features, labels_reg, labels_class, test_size=0.2, random_state=12345)\n"
      ]
    },
    {
      "cell_type": "markdown",
      "metadata": {
        "id": "bzZZJ6XfjFmW"
      },
      "source": [
        "Feature scaling\n"
      ]
    },
    {
      "cell_type": "code",
      "execution_count": 62,
      "metadata": {
        "id": "f_trvWvTjFmX"
      },
      "outputs": [],
      "source": [
        "scaler = StandardScaler()\n",
        "scaler.fit(X_train)\n",
        "X_train = scaler.transform(X_train)\n",
        "X_test = scaler.transform(X_test)\n"
      ]
    },
    {
      "cell_type": "markdown",
      "metadata": {
        "id": "2EvoIQ-PjFmX"
      },
      "source": [
        "Create a neural network model using TensorFlow Functional API\n"
      ]
    },
    {
      "cell_type": "code",
      "execution_count": 63,
      "metadata": {
        "colab": {
          "base_uri": "https://localhost:8080/"
        },
        "id": "LRYbdUYMjFmX",
        "outputId": "e17fe6dc-0188-46e7-f6ea-3edaa4498d3c"
      },
      "outputs": [
        {
          "data": {
            "text/plain": [
              "2"
            ]
          },
          "execution_count": 63,
          "metadata": {},
          "output_type": "execute_result"
        }
      ],
      "source": [
        "nIn = X_train.shape[1]\n",
        "# nClass = output for classification model\n",
        "nClass = len(np.unique(y_test_class))\n",
        "nClass\n"
      ]
    },
    {
      "cell_type": "code",
      "execution_count": 64,
      "metadata": {
        "id": "2CmnV1pRjFmX"
      },
      "outputs": [],
      "source": [
        "inputs = keras.Input(shape=(nIn,))\n",
        "h1 = layers.Dense(64, activation='relu')\n",
        "h2 = layers.Dropout(0.3)\n",
        "h3 = layers.Dense(64, activation='relu')\n",
        "h4 = layers.Dropout(0.3)\n",
        "h5 = layers.Dense(32, activation='relu')\n",
        "h6 = layers.Dropout(0.1)\n",
        "h7 = layers.Dense(32, activation='relu')\n",
        "h8 = layers.Dropout(0.1)\n",
        "\n",
        "out_reg = layers.Dense(1, activation='linear')\n",
        "out_class = layers.Dense(nClass, activation='softmax')\n"
      ]
    },
    {
      "cell_type": "code",
      "execution_count": 65,
      "metadata": {
        "id": "Ur_h3Qn7jFmX"
      },
      "outputs": [],
      "source": [
        "# Chain layers with functional API\n",
        "x = h1(inputs)\n",
        "x = h2(x)\n",
        "x = h3(x)\n",
        "x = h4(x)\n",
        "x = h5(x)\n",
        "x = h6(x)\n",
        "x = h7(x)\n",
        "x = h8(x)\n",
        "outputs_reg = out_reg(x)\n",
        "outputs_class = out_class(x)\n"
      ]
    },
    {
      "cell_type": "code",
      "execution_count": 66,
      "metadata": {
        "colab": {
          "base_uri": "https://localhost:8080/"
        },
        "id": "9X5YAhzXjFmX",
        "outputId": "b6bf71da-c64c-498a-ce55-362eb01abc62"
      },
      "outputs": [
        {
          "name": "stdout",
          "output_type": "stream",
          "text": [
            "Model: \"garment_employee_model\"\n",
            "__________________________________________________________________________________________________\n",
            " Layer (type)                   Output Shape         Param #     Connected to                     \n",
            "==================================================================================================\n",
            " input_2 (InputLayer)           [(None, 23)]         0           []                               \n",
            "                                                                                                  \n",
            " dense_6 (Dense)                (None, 64)           1536        ['input_2[0][0]']                \n",
            "                                                                                                  \n",
            " dropout_4 (Dropout)            (None, 64)           0           ['dense_6[0][0]']                \n",
            "                                                                                                  \n",
            " dense_7 (Dense)                (None, 64)           4160        ['dropout_4[0][0]']              \n",
            "                                                                                                  \n",
            " dropout_5 (Dropout)            (None, 64)           0           ['dense_7[0][0]']                \n",
            "                                                                                                  \n",
            " dense_8 (Dense)                (None, 32)           2080        ['dropout_5[0][0]']              \n",
            "                                                                                                  \n",
            " dropout_6 (Dropout)            (None, 32)           0           ['dense_8[0][0]']                \n",
            "                                                                                                  \n",
            " dense_9 (Dense)                (None, 32)           1056        ['dropout_6[0][0]']              \n",
            "                                                                                                  \n",
            " dropout_7 (Dropout)            (None, 32)           0           ['dense_9[0][0]']                \n",
            "                                                                                                  \n",
            " dense_10 (Dense)               (None, 1)            33          ['dropout_7[0][0]']              \n",
            "                                                                                                  \n",
            " dense_11 (Dense)               (None, 2)            66          ['dropout_7[0][0]']              \n",
            "                                                                                                  \n",
            "==================================================================================================\n",
            "Total params: 8,931\n",
            "Trainable params: 8,931\n",
            "Non-trainable params: 0\n",
            "__________________________________________________________________________________________________\n"
          ]
        }
      ],
      "source": [
        "model = keras.Model(inputs=inputs, outputs=[\n",
        "                    outputs_reg, outputs_class], name='garment_employee_model')\n",
        "model.summary()\n"
      ]
    },
    {
      "cell_type": "code",
      "execution_count": 67,
      "metadata": {
        "id": "-hFzAKXdjFmY"
      },
      "outputs": [],
      "source": [
        "model.compile(optimizer='adam', loss=[\n",
        "              'mse', 'sparse_categorical_crossentropy'], metrics=['mae', 'accuracy'])\n"
      ]
    },
    {
      "cell_type": "code",
      "execution_count": 68,
      "metadata": {
        "id": "E2MN7xuJjFmY"
      },
      "outputs": [],
      "source": [
        "# Initialize Early stopping callbacks\n",
        "es = EarlyStopping(patience=5, verbose=1, restore_best_weights=True)\n"
      ]
    },
    {
      "cell_type": "markdown",
      "metadata": {
        "id": "qwRGRgwLjFmY"
      },
      "source": [
        "Early stopping is applied during training to reduce the risk of overfitting.\n"
      ]
    },
    {
      "cell_type": "code",
      "execution_count": 69,
      "metadata": {
        "colab": {
          "base_uri": "https://localhost:8080/"
        },
        "id": "Ht9ecQAsjFmY",
        "outputId": "ff36d62a-71e6-45cc-ba71-8f3d1353f85f"
      },
      "outputs": [
        {
          "name": "stdout",
          "output_type": "stream",
          "text": [
            "Epoch 1/50\n",
            "30/30 [==============================] - 2s 15ms/step - loss: 0.9024 - dense_10_loss: 0.3869 - dense_11_loss: 0.5156 - dense_10_mae: 0.5102 - dense_10_accuracy: 0.0000e+00 - dense_11_mae: 0.5000 - dense_11_accuracy: 0.8537 - val_loss: 0.4844 - val_dense_10_loss: 0.0697 - val_dense_11_loss: 0.4146 - val_dense_10_mae: 0.1830 - val_dense_10_accuracy: 0.0000e+00 - val_dense_11_mae: 0.5000 - val_dense_11_accuracy: 0.8875\n",
            "Epoch 2/50\n",
            "30/30 [==============================] - 0s 5ms/step - loss: 0.5645 - dense_10_loss: 0.1503 - dense_11_loss: 0.4141 - dense_10_mae: 0.2931 - dense_10_accuracy: 0.0000e+00 - dense_11_mae: 0.5000 - dense_11_accuracy: 0.8892 - val_loss: 0.4401 - val_dense_10_loss: 0.0760 - val_dense_11_loss: 0.3640 - val_dense_10_mae: 0.2406 - val_dense_10_accuracy: 0.0000e+00 - val_dense_11_mae: 0.5000 - val_dense_11_accuracy: 0.8875\n",
            "Epoch 3/50\n",
            "30/30 [==============================] - 0s 5ms/step - loss: 0.4958 - dense_10_loss: 0.1185 - dense_11_loss: 0.3773 - dense_10_mae: 0.2604 - dense_10_accuracy: 0.0000e+00 - dense_11_mae: 0.5000 - dense_11_accuracy: 0.8892 - val_loss: 0.3965 - val_dense_10_loss: 0.0483 - val_dense_11_loss: 0.3482 - val_dense_10_mae: 0.1798 - val_dense_10_accuracy: 0.0000e+00 - val_dense_11_mae: 0.5000 - val_dense_11_accuracy: 0.8875\n",
            "Epoch 4/50\n",
            "30/30 [==============================] - 0s 5ms/step - loss: 0.4642 - dense_10_loss: 0.0959 - dense_11_loss: 0.3682 - dense_10_mae: 0.2455 - dense_10_accuracy: 0.0000e+00 - dense_11_mae: 0.5000 - dense_11_accuracy: 0.8892 - val_loss: 0.3856 - val_dense_10_loss: 0.0462 - val_dense_11_loss: 0.3394 - val_dense_10_mae: 0.1763 - val_dense_10_accuracy: 0.0000e+00 - val_dense_11_mae: 0.5000 - val_dense_11_accuracy: 0.8875\n",
            "Epoch 5/50\n",
            "30/30 [==============================] - 0s 5ms/step - loss: 0.4334 - dense_10_loss: 0.0802 - dense_11_loss: 0.3532 - dense_10_mae: 0.2191 - dense_10_accuracy: 0.0000e+00 - dense_11_mae: 0.5000 - dense_11_accuracy: 0.8892 - val_loss: 0.3715 - val_dense_10_loss: 0.0407 - val_dense_11_loss: 0.3308 - val_dense_10_mae: 0.1654 - val_dense_10_accuracy: 0.0000e+00 - val_dense_11_mae: 0.5000 - val_dense_11_accuracy: 0.8875\n",
            "Epoch 6/50\n",
            "30/30 [==============================] - 0s 5ms/step - loss: 0.4012 - dense_10_loss: 0.0644 - dense_11_loss: 0.3368 - dense_10_mae: 0.2046 - dense_10_accuracy: 0.0000e+00 - dense_11_mae: 0.5000 - dense_11_accuracy: 0.8892 - val_loss: 0.3783 - val_dense_10_loss: 0.0468 - val_dense_11_loss: 0.3316 - val_dense_10_mae: 0.1818 - val_dense_10_accuracy: 0.0000e+00 - val_dense_11_mae: 0.5000 - val_dense_11_accuracy: 0.8875\n",
            "Epoch 7/50\n",
            "30/30 [==============================] - 0s 5ms/step - loss: 0.4078 - dense_10_loss: 0.0678 - dense_11_loss: 0.3400 - dense_10_mae: 0.2055 - dense_10_accuracy: 0.0000e+00 - dense_11_mae: 0.5000 - dense_11_accuracy: 0.8892 - val_loss: 0.3580 - val_dense_10_loss: 0.0366 - val_dense_11_loss: 0.3214 - val_dense_10_mae: 0.1532 - val_dense_10_accuracy: 0.0000e+00 - val_dense_11_mae: 0.5000 - val_dense_11_accuracy: 0.8875\n",
            "Epoch 8/50\n",
            "30/30 [==============================] - 0s 5ms/step - loss: 0.4060 - dense_10_loss: 0.0670 - dense_11_loss: 0.3390 - dense_10_mae: 0.2066 - dense_10_accuracy: 0.0000e+00 - dense_11_mae: 0.5000 - dense_11_accuracy: 0.8892 - val_loss: 0.3570 - val_dense_10_loss: 0.0357 - val_dense_11_loss: 0.3213 - val_dense_10_mae: 0.1512 - val_dense_10_accuracy: 0.0000e+00 - val_dense_11_mae: 0.5000 - val_dense_11_accuracy: 0.8875\n",
            "Epoch 9/50\n",
            "30/30 [==============================] - 0s 4ms/step - loss: 0.3778 - dense_10_loss: 0.0566 - dense_11_loss: 0.3212 - dense_10_mae: 0.1857 - dense_10_accuracy: 0.0000e+00 - dense_11_mae: 0.5000 - dense_11_accuracy: 0.8892 - val_loss: 0.3506 - val_dense_10_loss: 0.0348 - val_dense_11_loss: 0.3158 - val_dense_10_mae: 0.1462 - val_dense_10_accuracy: 0.0000e+00 - val_dense_11_mae: 0.5000 - val_dense_11_accuracy: 0.8875\n",
            "Epoch 10/50\n",
            "30/30 [==============================] - 0s 4ms/step - loss: 0.3615 - dense_10_loss: 0.0575 - dense_11_loss: 0.3040 - dense_10_mae: 0.1887 - dense_10_accuracy: 0.0000e+00 - dense_11_mae: 0.5000 - dense_11_accuracy: 0.8892 - val_loss: 0.3499 - val_dense_10_loss: 0.0355 - val_dense_11_loss: 0.3144 - val_dense_10_mae: 0.1487 - val_dense_10_accuracy: 0.0000e+00 - val_dense_11_mae: 0.5000 - val_dense_11_accuracy: 0.8875\n",
            "Epoch 11/50\n",
            "30/30 [==============================] - 0s 4ms/step - loss: 0.3647 - dense_10_loss: 0.0504 - dense_11_loss: 0.3143 - dense_10_mae: 0.1779 - dense_10_accuracy: 0.0000e+00 - dense_11_mae: 0.5000 - dense_11_accuracy: 0.8892 - val_loss: 0.3501 - val_dense_10_loss: 0.0361 - val_dense_11_loss: 0.3140 - val_dense_10_mae: 0.1542 - val_dense_10_accuracy: 0.0000e+00 - val_dense_11_mae: 0.5000 - val_dense_11_accuracy: 0.8875\n",
            "Epoch 12/50\n",
            "30/30 [==============================] - 0s 4ms/step - loss: 0.3450 - dense_10_loss: 0.0524 - dense_11_loss: 0.2925 - dense_10_mae: 0.1793 - dense_10_accuracy: 0.0000e+00 - dense_11_mae: 0.5000 - dense_11_accuracy: 0.8903 - val_loss: 0.3532 - val_dense_10_loss: 0.0401 - val_dense_11_loss: 0.3131 - val_dense_10_mae: 0.1670 - val_dense_10_accuracy: 0.0000e+00 - val_dense_11_mae: 0.5000 - val_dense_11_accuracy: 0.8875\n",
            "Epoch 13/50\n",
            "30/30 [==============================] - 0s 4ms/step - loss: 0.3400 - dense_10_loss: 0.0494 - dense_11_loss: 0.2906 - dense_10_mae: 0.1768 - dense_10_accuracy: 0.0000e+00 - dense_11_mae: 0.5000 - dense_11_accuracy: 0.8913 - val_loss: 0.3473 - val_dense_10_loss: 0.0324 - val_dense_11_loss: 0.3148 - val_dense_10_mae: 0.1390 - val_dense_10_accuracy: 0.0000e+00 - val_dense_11_mae: 0.5000 - val_dense_11_accuracy: 0.8875\n",
            "Epoch 14/50\n",
            "30/30 [==============================] - 0s 4ms/step - loss: 0.3342 - dense_10_loss: 0.0458 - dense_11_loss: 0.2884 - dense_10_mae: 0.1698 - dense_10_accuracy: 0.0000e+00 - dense_11_mae: 0.5000 - dense_11_accuracy: 0.8913 - val_loss: 0.3514 - val_dense_10_loss: 0.0339 - val_dense_11_loss: 0.3175 - val_dense_10_mae: 0.1460 - val_dense_10_accuracy: 0.0000e+00 - val_dense_11_mae: 0.5000 - val_dense_11_accuracy: 0.8833\n",
            "Epoch 15/50\n",
            "30/30 [==============================] - 0s 4ms/step - loss: 0.3386 - dense_10_loss: 0.0444 - dense_11_loss: 0.2942 - dense_10_mae: 0.1669 - dense_10_accuracy: 0.0000e+00 - dense_11_mae: 0.5000 - dense_11_accuracy: 0.8913 - val_loss: 0.3519 - val_dense_10_loss: 0.0331 - val_dense_11_loss: 0.3187 - val_dense_10_mae: 0.1468 - val_dense_10_accuracy: 0.0000e+00 - val_dense_11_mae: 0.5000 - val_dense_11_accuracy: 0.8833\n",
            "Epoch 16/50\n",
            "30/30 [==============================] - 0s 4ms/step - loss: 0.3338 - dense_10_loss: 0.0435 - dense_11_loss: 0.2903 - dense_10_mae: 0.1643 - dense_10_accuracy: 0.0000e+00 - dense_11_mae: 0.5000 - dense_11_accuracy: 0.8955 - val_loss: 0.3515 - val_dense_10_loss: 0.0310 - val_dense_11_loss: 0.3205 - val_dense_10_mae: 0.1387 - val_dense_10_accuracy: 0.0000e+00 - val_dense_11_mae: 0.5000 - val_dense_11_accuracy: 0.8833\n",
            "Epoch 17/50\n",
            "30/30 [==============================] - 0s 4ms/step - loss: 0.3247 - dense_10_loss: 0.0416 - dense_11_loss: 0.2831 - dense_10_mae: 0.1646 - dense_10_accuracy: 0.0000e+00 - dense_11_mae: 0.5000 - dense_11_accuracy: 0.8945 - val_loss: 0.3553 - val_dense_10_loss: 0.0364 - val_dense_11_loss: 0.3188 - val_dense_10_mae: 0.1614 - val_dense_10_accuracy: 0.0000e+00 - val_dense_11_mae: 0.5000 - val_dense_11_accuracy: 0.8833\n",
            "Epoch 18/50\n",
            "30/30 [==============================] - 0s 4ms/step - loss: 0.3165 - dense_10_loss: 0.0400 - dense_11_loss: 0.2765 - dense_10_mae: 0.1563 - dense_10_accuracy: 0.0000e+00 - dense_11_mae: 0.5000 - dense_11_accuracy: 0.9018 - val_loss: 0.3499 - val_dense_10_loss: 0.0293 - val_dense_11_loss: 0.3206 - val_dense_10_mae: 0.1275 - val_dense_10_accuracy: 0.0000e+00 - val_dense_11_mae: 0.5000 - val_dense_11_accuracy: 0.8833\n",
            "Epoch 19/50\n",
            "30/30 [==============================] - 0s 4ms/step - loss: 0.3077 - dense_10_loss: 0.0407 - dense_11_loss: 0.2670 - dense_10_mae: 0.1579 - dense_10_accuracy: 0.0000e+00 - dense_11_mae: 0.5000 - dense_11_accuracy: 0.8924 - val_loss: 0.3506 - val_dense_10_loss: 0.0314 - val_dense_11_loss: 0.3192 - val_dense_10_mae: 0.1410 - val_dense_10_accuracy: 0.0000e+00 - val_dense_11_mae: 0.5000 - val_dense_11_accuracy: 0.8792\n",
            "Epoch 20/50\n",
            "30/30 [==============================] - 0s 4ms/step - loss: 0.3268 - dense_10_loss: 0.0386 - dense_11_loss: 0.2882 - dense_10_mae: 0.1535 - dense_10_accuracy: 0.0000e+00 - dense_11_mae: 0.5000 - dense_11_accuracy: 0.8955 - val_loss: 0.3489 - val_dense_10_loss: 0.0289 - val_dense_11_loss: 0.3199 - val_dense_10_mae: 0.1346 - val_dense_10_accuracy: 0.0000e+00 - val_dense_11_mae: 0.5000 - val_dense_11_accuracy: 0.8792\n",
            "Epoch 21/50\n",
            "30/30 [==============================] - 0s 4ms/step - loss: 0.3070 - dense_10_loss: 0.0373 - dense_11_loss: 0.2697 - dense_10_mae: 0.1501 - dense_10_accuracy: 0.0000e+00 - dense_11_mae: 0.5000 - dense_11_accuracy: 0.8986 - val_loss: 0.3489 - val_dense_10_loss: 0.0289 - val_dense_11_loss: 0.3200 - val_dense_10_mae: 0.1353 - val_dense_10_accuracy: 0.0000e+00 - val_dense_11_mae: 0.5000 - val_dense_11_accuracy: 0.8792\n",
            "Epoch 22/50\n",
            "30/30 [==============================] - 0s 4ms/step - loss: 0.2999 - dense_10_loss: 0.0367 - dense_11_loss: 0.2632 - dense_10_mae: 0.1495 - dense_10_accuracy: 0.0000e+00 - dense_11_mae: 0.5000 - dense_11_accuracy: 0.8945 - val_loss: 0.3505 - val_dense_10_loss: 0.0268 - val_dense_11_loss: 0.3238 - val_dense_10_mae: 0.1248 - val_dense_10_accuracy: 0.0000e+00 - val_dense_11_mae: 0.5000 - val_dense_11_accuracy: 0.8833\n",
            "Epoch 23/50\n",
            "30/30 [==============================] - 0s 4ms/step - loss: 0.3026 - dense_10_loss: 0.0386 - dense_11_loss: 0.2640 - dense_10_mae: 0.1524 - dense_10_accuracy: 0.0000e+00 - dense_11_mae: 0.5000 - dense_11_accuracy: 0.8945 - val_loss: 0.3542 - val_dense_10_loss: 0.0267 - val_dense_11_loss: 0.3274 - val_dense_10_mae: 0.1257 - val_dense_10_accuracy: 0.0000e+00 - val_dense_11_mae: 0.5000 - val_dense_11_accuracy: 0.8792\n",
            "Epoch 24/50\n",
            "30/30 [==============================] - 0s 4ms/step - loss: 0.2908 - dense_10_loss: 0.0352 - dense_11_loss: 0.2556 - dense_10_mae: 0.1483 - dense_10_accuracy: 0.0000e+00 - dense_11_mae: 0.5000 - dense_11_accuracy: 0.9060 - val_loss: 0.3567 - val_dense_10_loss: 0.0284 - val_dense_11_loss: 0.3282 - val_dense_10_mae: 0.1289 - val_dense_10_accuracy: 0.0000e+00 - val_dense_11_mae: 0.5000 - val_dense_11_accuracy: 0.8833\n",
            "Epoch 25/50\n",
            "30/30 [==============================] - 0s 4ms/step - loss: 0.2984 - dense_10_loss: 0.0325 - dense_11_loss: 0.2659 - dense_10_mae: 0.1404 - dense_10_accuracy: 0.0000e+00 - dense_11_mae: 0.5000 - dense_11_accuracy: 0.8976 - val_loss: 0.3543 - val_dense_10_loss: 0.0329 - val_dense_11_loss: 0.3214 - val_dense_10_mae: 0.1526 - val_dense_10_accuracy: 0.0000e+00 - val_dense_11_mae: 0.5000 - val_dense_11_accuracy: 0.8833\n",
            "Epoch 26/50\n",
            "30/30 [==============================] - 0s 4ms/step - loss: 0.2897 - dense_10_loss: 0.0344 - dense_11_loss: 0.2553 - dense_10_mae: 0.1464 - dense_10_accuracy: 0.0000e+00 - dense_11_mae: 0.5000 - dense_11_accuracy: 0.9007 - val_loss: 0.3560 - val_dense_10_loss: 0.0314 - val_dense_11_loss: 0.3247 - val_dense_10_mae: 0.1454 - val_dense_10_accuracy: 0.0000e+00 - val_dense_11_mae: 0.5000 - val_dense_11_accuracy: 0.8833\n",
            "Epoch 27/50\n",
            "30/30 [==============================] - 0s 4ms/step - loss: 0.2842 - dense_10_loss: 0.0348 - dense_11_loss: 0.2494 - dense_10_mae: 0.1460 - dense_10_accuracy: 0.0000e+00 - dense_11_mae: 0.5000 - dense_11_accuracy: 0.9018 - val_loss: 0.3577 - val_dense_10_loss: 0.0311 - val_dense_11_loss: 0.3266 - val_dense_10_mae: 0.1456 - val_dense_10_accuracy: 0.0000e+00 - val_dense_11_mae: 0.5000 - val_dense_11_accuracy: 0.8792\n",
            "Epoch 28/50\n",
            "30/30 [==============================] - 0s 4ms/step - loss: 0.2885 - dense_10_loss: 0.0326 - dense_11_loss: 0.2559 - dense_10_mae: 0.1427 - dense_10_accuracy: 0.0000e+00 - dense_11_mae: 0.5000 - dense_11_accuracy: 0.8955 - val_loss: 0.3580 - val_dense_10_loss: 0.0306 - val_dense_11_loss: 0.3274 - val_dense_10_mae: 0.1426 - val_dense_10_accuracy: 0.0000e+00 - val_dense_11_mae: 0.5000 - val_dense_11_accuracy: 0.8833\n",
            "Epoch 29/50\n",
            "30/30 [==============================] - 0s 4ms/step - loss: 0.2712 - dense_10_loss: 0.0302 - dense_11_loss: 0.2410 - dense_10_mae: 0.1365 - dense_10_accuracy: 0.0000e+00 - dense_11_mae: 0.5000 - dense_11_accuracy: 0.9018 - val_loss: 0.3576 - val_dense_10_loss: 0.0276 - val_dense_11_loss: 0.3300 - val_dense_10_mae: 0.1313 - val_dense_10_accuracy: 0.0000e+00 - val_dense_11_mae: 0.5000 - val_dense_11_accuracy: 0.8833\n",
            "Epoch 30/50\n",
            "30/30 [==============================] - 0s 4ms/step - loss: 0.2659 - dense_10_loss: 0.0314 - dense_11_loss: 0.2345 - dense_10_mae: 0.1376 - dense_10_accuracy: 0.0000e+00 - dense_11_mae: 0.5000 - dense_11_accuracy: 0.9007 - val_loss: 0.3651 - val_dense_10_loss: 0.0268 - val_dense_11_loss: 0.3383 - val_dense_10_mae: 0.1258 - val_dense_10_accuracy: 0.0000e+00 - val_dense_11_mae: 0.5000 - val_dense_11_accuracy: 0.8875\n",
            "Epoch 31/50\n",
            "30/30 [==============================] - 0s 4ms/step - loss: 0.2822 - dense_10_loss: 0.0305 - dense_11_loss: 0.2517 - dense_10_mae: 0.1385 - dense_10_accuracy: 0.0000e+00 - dense_11_mae: 0.5000 - dense_11_accuracy: 0.9049 - val_loss: 0.3596 - val_dense_10_loss: 0.0260 - val_dense_11_loss: 0.3337 - val_dense_10_mae: 0.1198 - val_dense_10_accuracy: 0.0000e+00 - val_dense_11_mae: 0.5000 - val_dense_11_accuracy: 0.8875\n",
            "Epoch 32/50\n",
            "30/30 [==============================] - 0s 4ms/step - loss: 0.2633 - dense_10_loss: 0.0308 - dense_11_loss: 0.2325 - dense_10_mae: 0.1362 - dense_10_accuracy: 0.0000e+00 - dense_11_mae: 0.5000 - dense_11_accuracy: 0.8997 - val_loss: 0.3666 - val_dense_10_loss: 0.0252 - val_dense_11_loss: 0.3414 - val_dense_10_mae: 0.1157 - val_dense_10_accuracy: 0.0000e+00 - val_dense_11_mae: 0.5000 - val_dense_11_accuracy: 0.8875\n",
            "Epoch 33/50\n",
            "30/30 [==============================] - 0s 4ms/step - loss: 0.2686 - dense_10_loss: 0.0297 - dense_11_loss: 0.2389 - dense_10_mae: 0.1376 - dense_10_accuracy: 0.0000e+00 - dense_11_mae: 0.5000 - dense_11_accuracy: 0.9049 - val_loss: 0.3631 - val_dense_10_loss: 0.0273 - val_dense_11_loss: 0.3358 - val_dense_10_mae: 0.1289 - val_dense_10_accuracy: 0.0000e+00 - val_dense_11_mae: 0.5000 - val_dense_11_accuracy: 0.8875\n",
            "Epoch 34/50\n",
            "30/30 [==============================] - 0s 4ms/step - loss: 0.2796 - dense_10_loss: 0.0307 - dense_11_loss: 0.2489 - dense_10_mae: 0.1366 - dense_10_accuracy: 0.0000e+00 - dense_11_mae: 0.5000 - dense_11_accuracy: 0.9080 - val_loss: 0.3652 - val_dense_10_loss: 0.0263 - val_dense_11_loss: 0.3389 - val_dense_10_mae: 0.1211 - val_dense_10_accuracy: 0.0000e+00 - val_dense_11_mae: 0.5000 - val_dense_11_accuracy: 0.8917\n",
            "Epoch 35/50\n",
            "30/30 [==============================] - 0s 4ms/step - loss: 0.2740 - dense_10_loss: 0.0314 - dense_11_loss: 0.2425 - dense_10_mae: 0.1388 - dense_10_accuracy: 0.0000e+00 - dense_11_mae: 0.5000 - dense_11_accuracy: 0.9080 - val_loss: 0.3649 - val_dense_10_loss: 0.0265 - val_dense_11_loss: 0.3384 - val_dense_10_mae: 0.1192 - val_dense_10_accuracy: 0.0000e+00 - val_dense_11_mae: 0.5000 - val_dense_11_accuracy: 0.8917\n",
            "Epoch 36/50\n",
            "30/30 [==============================] - 0s 5ms/step - loss: 0.2543 - dense_10_loss: 0.0294 - dense_11_loss: 0.2249 - dense_10_mae: 0.1362 - dense_10_accuracy: 0.0000e+00 - dense_11_mae: 0.5000 - dense_11_accuracy: 0.9091 - val_loss: 0.3621 - val_dense_10_loss: 0.0260 - val_dense_11_loss: 0.3362 - val_dense_10_mae: 0.1211 - val_dense_10_accuracy: 0.0000e+00 - val_dense_11_mae: 0.5000 - val_dense_11_accuracy: 0.8917\n",
            "Epoch 37/50\n",
            "30/30 [==============================] - 0s 5ms/step - loss: 0.2618 - dense_10_loss: 0.0280 - dense_11_loss: 0.2338 - dense_10_mae: 0.1321 - dense_10_accuracy: 0.0000e+00 - dense_11_mae: 0.5000 - dense_11_accuracy: 0.9122 - val_loss: 0.3618 - val_dense_10_loss: 0.0274 - val_dense_11_loss: 0.3345 - val_dense_10_mae: 0.1292 - val_dense_10_accuracy: 0.0000e+00 - val_dense_11_mae: 0.5000 - val_dense_11_accuracy: 0.8917\n",
            "Epoch 38/50\n",
            "30/30 [==============================] - 0s 4ms/step - loss: 0.2573 - dense_10_loss: 0.0298 - dense_11_loss: 0.2275 - dense_10_mae: 0.1331 - dense_10_accuracy: 0.0000e+00 - dense_11_mae: 0.5000 - dense_11_accuracy: 0.9039 - val_loss: 0.3713 - val_dense_10_loss: 0.0256 - val_dense_11_loss: 0.3457 - val_dense_10_mae: 0.1177 - val_dense_10_accuracy: 0.0000e+00 - val_dense_11_mae: 0.5000 - val_dense_11_accuracy: 0.8917\n",
            "Epoch 39/50\n",
            "30/30 [==============================] - 0s 4ms/step - loss: 0.2473 - dense_10_loss: 0.0280 - dense_11_loss: 0.2193 - dense_10_mae: 0.1317 - dense_10_accuracy: 0.0000e+00 - dense_11_mae: 0.5000 - dense_11_accuracy: 0.9122 - val_loss: 0.3695 - val_dense_10_loss: 0.0252 - val_dense_11_loss: 0.3443 - val_dense_10_mae: 0.1163 - val_dense_10_accuracy: 0.0000e+00 - val_dense_11_mae: 0.5000 - val_dense_11_accuracy: 0.8917\n",
            "Epoch 40/50\n",
            "30/30 [==============================] - 0s 4ms/step - loss: 0.2434 - dense_10_loss: 0.0273 - dense_11_loss: 0.2161 - dense_10_mae: 0.1303 - dense_10_accuracy: 0.0000e+00 - dense_11_mae: 0.5000 - dense_11_accuracy: 0.9080 - val_loss: 0.3695 - val_dense_10_loss: 0.0268 - val_dense_11_loss: 0.3427 - val_dense_10_mae: 0.1250 - val_dense_10_accuracy: 0.0000e+00 - val_dense_11_mae: 0.5000 - val_dense_11_accuracy: 0.8917\n",
            "Epoch 41/50\n",
            "30/30 [==============================] - 0s 4ms/step - loss: 0.2330 - dense_10_loss: 0.0257 - dense_11_loss: 0.2074 - dense_10_mae: 0.1259 - dense_10_accuracy: 0.0000e+00 - dense_11_mae: 0.5000 - dense_11_accuracy: 0.9175 - val_loss: 0.3807 - val_dense_10_loss: 0.0268 - val_dense_11_loss: 0.3539 - val_dense_10_mae: 0.1247 - val_dense_10_accuracy: 0.0000e+00 - val_dense_11_mae: 0.5000 - val_dense_11_accuracy: 0.8917\n",
            "Epoch 42/50\n",
            "30/30 [==============================] - 0s 4ms/step - loss: 0.2547 - dense_10_loss: 0.0269 - dense_11_loss: 0.2277 - dense_10_mae: 0.1293 - dense_10_accuracy: 0.0000e+00 - dense_11_mae: 0.5000 - dense_11_accuracy: 0.9049 - val_loss: 0.3710 - val_dense_10_loss: 0.0257 - val_dense_11_loss: 0.3453 - val_dense_10_mae: 0.1192 - val_dense_10_accuracy: 0.0000e+00 - val_dense_11_mae: 0.5000 - val_dense_11_accuracy: 0.9000\n",
            "Epoch 43/50\n",
            "30/30 [==============================] - 0s 4ms/step - loss: 0.2488 - dense_10_loss: 0.0266 - dense_11_loss: 0.2223 - dense_10_mae: 0.1266 - dense_10_accuracy: 0.0000e+00 - dense_11_mae: 0.5000 - dense_11_accuracy: 0.9018 - val_loss: 0.3701 - val_dense_10_loss: 0.0266 - val_dense_11_loss: 0.3435 - val_dense_10_mae: 0.1232 - val_dense_10_accuracy: 0.0000e+00 - val_dense_11_mae: 0.5000 - val_dense_11_accuracy: 0.9000\n",
            "Epoch 44/50\n",
            "30/30 [==============================] - 0s 4ms/step - loss: 0.2501 - dense_10_loss: 0.0269 - dense_11_loss: 0.2232 - dense_10_mae: 0.1276 - dense_10_accuracy: 0.0000e+00 - dense_11_mae: 0.5000 - dense_11_accuracy: 0.9185 - val_loss: 0.3712 - val_dense_10_loss: 0.0253 - val_dense_11_loss: 0.3459 - val_dense_10_mae: 0.1162 - val_dense_10_accuracy: 0.0000e+00 - val_dense_11_mae: 0.5000 - val_dense_11_accuracy: 0.8958\n",
            "Epoch 45/50\n",
            "30/30 [==============================] - 0s 4ms/step - loss: 0.2305 - dense_10_loss: 0.0256 - dense_11_loss: 0.2049 - dense_10_mae: 0.1270 - dense_10_accuracy: 0.0000e+00 - dense_11_mae: 0.5000 - dense_11_accuracy: 0.9133 - val_loss: 0.3726 - val_dense_10_loss: 0.0246 - val_dense_11_loss: 0.3481 - val_dense_10_mae: 0.1124 - val_dense_10_accuracy: 0.0000e+00 - val_dense_11_mae: 0.5000 - val_dense_11_accuracy: 0.9000\n",
            "Epoch 46/50\n",
            "30/30 [==============================] - 0s 4ms/step - loss: 0.2510 - dense_10_loss: 0.0287 - dense_11_loss: 0.2223 - dense_10_mae: 0.1335 - dense_10_accuracy: 0.0000e+00 - dense_11_mae: 0.5000 - dense_11_accuracy: 0.9018 - val_loss: 0.3786 - val_dense_10_loss: 0.0257 - val_dense_11_loss: 0.3529 - val_dense_10_mae: 0.1195 - val_dense_10_accuracy: 0.0000e+00 - val_dense_11_mae: 0.5000 - val_dense_11_accuracy: 0.9042\n",
            "Epoch 47/50\n",
            "30/30 [==============================] - 0s 4ms/step - loss: 0.2465 - dense_10_loss: 0.0269 - dense_11_loss: 0.2195 - dense_10_mae: 0.1272 - dense_10_accuracy: 0.0000e+00 - dense_11_mae: 0.5000 - dense_11_accuracy: 0.9101 - val_loss: 0.3685 - val_dense_10_loss: 0.0251 - val_dense_11_loss: 0.3435 - val_dense_10_mae: 0.1170 - val_dense_10_accuracy: 0.0000e+00 - val_dense_11_mae: 0.5000 - val_dense_11_accuracy: 0.9000\n",
            "Epoch 48/50\n",
            "30/30 [==============================] - 0s 5ms/step - loss: 0.2366 - dense_10_loss: 0.0255 - dense_11_loss: 0.2111 - dense_10_mae: 0.1246 - dense_10_accuracy: 0.0000e+00 - dense_11_mae: 0.5000 - dense_11_accuracy: 0.9133 - val_loss: 0.3771 - val_dense_10_loss: 0.0240 - val_dense_11_loss: 0.3531 - val_dense_10_mae: 0.1110 - val_dense_10_accuracy: 0.0000e+00 - val_dense_11_mae: 0.5000 - val_dense_11_accuracy: 0.9042\n",
            "Epoch 49/50\n",
            "30/30 [==============================] - 0s 4ms/step - loss: 0.2428 - dense_10_loss: 0.0270 - dense_11_loss: 0.2157 - dense_10_mae: 0.1262 - dense_10_accuracy: 0.0000e+00 - dense_11_mae: 0.5000 - dense_11_accuracy: 0.9091 - val_loss: 0.3686 - val_dense_10_loss: 0.0256 - val_dense_11_loss: 0.3430 - val_dense_10_mae: 0.1201 - val_dense_10_accuracy: 0.0000e+00 - val_dense_11_mae: 0.5000 - val_dense_11_accuracy: 0.9000\n",
            "Epoch 50/50\n",
            "30/30 [==============================] - 0s 4ms/step - loss: 0.2183 - dense_10_loss: 0.0251 - dense_11_loss: 0.1931 - dense_10_mae: 0.1245 - dense_10_accuracy: 0.0000e+00 - dense_11_mae: 0.5000 - dense_11_accuracy: 0.9122 - val_loss: 0.3797 - val_dense_10_loss: 0.0252 - val_dense_11_loss: 0.3544 - val_dense_10_mae: 0.1209 - val_dense_10_accuracy: 0.0000e+00 - val_dense_11_mae: 0.5000 - val_dense_11_accuracy: 0.9042\n"
          ]
        }
      ],
      "source": [
        "# Model training\n",
        "history = model.fit(X_train, [y_train, y_train_class], validation_data=(\n",
        "    X_test, [y_test, y_test_class]), batch_size=32, epochs=50)\n"
      ]
    },
    {
      "cell_type": "markdown",
      "metadata": {
        "id": "jroCoEYNjFmY"
      },
      "source": [
        "## Model evaluation"
      ]
    },
    {
      "cell_type": "code",
      "execution_count": 70,
      "metadata": {
        "id": "znjUrWasjFmY"
      },
      "outputs": [],
      "source": [
        "# Make predictions on the labels\n",
        "y_pred_reg, y_pred_class = model.predict(X_test)\n"
      ]
    },
    {
      "cell_type": "markdown",
      "metadata": {
        "id": "-IX0XMKijFmY"
      },
      "source": [
        "### Classification evaluation"
      ]
    },
    {
      "cell_type": "code",
      "execution_count": 71,
      "metadata": {
        "colab": {
          "base_uri": "https://localhost:8080/"
        },
        "id": "A5V-0Rc0jFmZ",
        "outputId": "0d7624e6-30d5-4ffa-cc03-e0caca3f7eb3"
      },
      "outputs": [
        {
          "name": "stdout",
          "output_type": "stream",
          "text": [
            "Accuracy: 90.41666666666667%\n"
          ]
        }
      ],
      "source": [
        "# evaluate accuracy for classification model\n",
        "y_pred_class = np.argmax(y_pred_class, axis=1).astype('int')\n",
        "acc = accuracy_score(y_test_class, y_pred_class)\n",
        "print(f'Accuracy score: {acc*100}%')\n"
      ]
    },
    {
      "cell_type": "markdown",
      "metadata": {
        "id": "Vp3Ob-ZCjFmZ"
      },
      "source": [
        "### Regression evaluation"
      ]
    },
    {
      "cell_type": "code",
      "execution_count": 72,
      "metadata": {
        "colab": {
          "base_uri": "https://localhost:8080/"
        },
        "id": "NdXG0yN_jFmZ",
        "outputId": "a775952c-6c6a-4864-ca28-83c03e4c4885"
      },
      "outputs": [
        {
          "name": "stdout",
          "output_type": "stream",
          "text": [
            "MAE: 0.121\n"
          ]
        }
      ],
      "source": [
        "# Evaluate Error for regression model\n",
        "error = mean_absolute_error(y_test, y_pred_reg)\n",
        "print('MAE: %.3f' % error)\n"
      ]
    },
    {
      "cell_type": "markdown",
      "metadata": {
        "id": "cYTpawdbjFmZ"
      },
      "source": [
        "Plot the predicted values with the actual values\n"
      ]
    },
    {
      "cell_type": "code",
      "execution_count": 73,
      "metadata": {
        "colab": {
          "base_uri": "https://localhost:8080/",
          "height": 614
        },
        "id": "vWV4KP0EjFma",
        "outputId": "1d328e79-3433-47e7-f0e2-0aa7b4b4e778"
      },
      "outputs": [
        {
          "data": {
            "image/png": "[encoded data removed]",
            "text/plain": [
              "<Figure size 720x720 with 1 Axes>"
            ]
          },
          "metadata": {
            "needs_background": "light"
          },
          "output_type": "display_data"
        }
      ],
      "source": [
        "plt.figure(figsize=(10, 10))\n",
        "plt.scatter(y_test, y_pred_reg, c='crimson')\n",
        "plt.yscale('log')\n",
        "plt.xscale('log')\n",
        "\n",
        "p1 = max(max(y_pred_reg), max(y_test))\n",
        "p2 = min(min(y_pred_reg), min(y_test))\n",
        "plt.plot([p1, p2], [p1, p2], 'b-')\n",
        "plt.xlabel('True Values', fontsize=15)\n",
        "plt.ylabel('Predictions', fontsize=15)\n",
        "plt.axis('equal')\n",
        "plt.show()\n"
      ]
    }
  ],
  "metadata": {
    "colab": {
      "collapsed_sections": [],
      "name": "garment-employee-prediction.ipynb",
      "provenance": []
    },
    "kernelspec": {
      "display_name": "Python 3.8.13 ('tf_gpu')",
      "language": "python",
      "name": "python3"
    },
    "language_info": {
      "codemirror_mode": {
        "name": "ipython",
        "version": 3
      },
      "file_extension": ".py",
      "mimetype": "text/x-python",
      "name": "python",
      "nbconvert_exporter": "python",
      "pygments_lexer": "ipython3",
      "version": "3.8.13"
    },
    "orig_nbformat": 4,
    "vscode": {
      "interpreter": {
        "hash": "eab5c878253b93a6adc25624be80b491b79403eaf2aa2586de0ceefb5205a10b"
      }
    }
  },
  "nbformat": 4,
  "nbformat_minor": 0
}
